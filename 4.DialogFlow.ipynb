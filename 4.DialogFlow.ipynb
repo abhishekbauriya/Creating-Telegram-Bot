{
 "cells": [
  {
   "cell_type": "markdown",
   "id": "bulgarian-origin",
   "metadata": {},
   "source": [
    "# DialogFlow"
   ]
  },
  {
   "cell_type": "markdown",
   "id": "exempt-computer",
   "metadata": {},
   "source": [
    "<b>1.Login into dialogflow console</b>\n",
    "\n",
    "<b>2. Create a new agent or import a pre-built agent</b>\n",
    "\n",
    "<b>3. From settings page of agent, open the service account of your project in Google Cloud Console</b>\n",
    "\n",
    "<b>4. Create a new service account for your project. Download private key for the service account in a JSON file format</b>\n",
    "\n",
    "<b>5. Rename the json file with \"client.json\"</b>\n",
    "\n",
    "<b>6. Paste this json file with the location were yiou have project in your drive--->my Loction--->E:\\coding_blocks_python_master_developer\\Basics of Python\\15.Project 04 - Creating Telegram Bot\\client.json</b>\n",
    "\n",
    "<b>7. Install Python Client for DialogFlow</b>\n",
    "\n",
    "- dialogflow-python-client\n",
    "\n",
    "        pip install dialogflow"
   ]
  },
  {
   "cell_type": "markdown",
   "id": "detected-allen",
   "metadata": {},
   "source": [
    "If you're working on a jupyter notebook and want to set GOOGLE_APPLICATION_CREDENTIALS environment variable in Python code :\n",
    "\n",
    "<b>import os\n",
    "    \n",
    "os.environ[\"GOOGLE_APPLICATION_CREDENTIALS\"]=\"/path/to/file.json\"</b>"
   ]
  },
  {
   "cell_type": "code",
   "execution_count": 27,
   "id": "armed-oracle",
   "metadata": {},
   "outputs": [],
   "source": [
    "import os\n",
    "\n",
    "os.environ[\"GOOGLE_APPLICATION_CREDENTIALS\"]=\"./client.json\"\n",
    "\n",
    "import dialogflow_v2 as dialogflow\n",
    "dialogflow_session_client = dialogflow.SessionsClient()\n",
    "PROJECT_ID = \"newsbot-9hyg\""
   ]
  },
  {
   "cell_type": "code",
   "execution_count": 28,
   "id": "brutal-proceeding",
   "metadata": {},
   "outputs": [],
   "source": [
    "def detect_intent_from_text(text, session_id, language_code='en'):\n",
    "    session = dialogflow_session_client.session_path(PROJECT_ID, session_id)\n",
    "    text_input = dialogflow.types.TextInput(text=text, language_code=language_code)\n",
    "    query_input  = dialogflow.types.QueryInput(text=text_input)\n",
    "    response = dialogflow_session_client.detect_intent(session=session, query_input=query_input)\n",
    "    return response.query_result"
   ]
  },
  {
   "cell_type": "code",
   "execution_count": 29,
   "id": "defensive-murder",
   "metadata": {},
   "outputs": [],
   "source": [
    "response = detect_intent_from_text(\"Give me sports news from india in hindi\", 12345)"
   ]
  },
  {
   "cell_type": "code",
   "execution_count": 30,
   "id": "naked-remains",
   "metadata": {},
   "outputs": [
    {
     "data": {
      "text/plain": [
       "'get_news'"
      ]
     },
     "execution_count": 30,
     "metadata": {},
     "output_type": "execute_result"
    }
   ],
   "source": [
    "response.intent.display_name"
   ]
  },
  {
   "cell_type": "code",
   "execution_count": 31,
   "id": "rapid-eclipse",
   "metadata": {},
   "outputs": [
    {
     "data": {
      "text/plain": [
       "fields {\n",
       "  key: \"geo-country\"\n",
       "  value {\n",
       "    string_value: \"India\"\n",
       "  }\n",
       "}\n",
       "fields {\n",
       "  key: \"language\"\n",
       "  value {\n",
       "    string_value: \"Hindi\"\n",
       "  }\n",
       "}\n",
       "fields {\n",
       "  key: \"topic\"\n",
       "  value {\n",
       "    string_value: \"Sports\"\n",
       "  }\n",
       "}"
      ]
     },
     "execution_count": 31,
     "metadata": {},
     "output_type": "execute_result"
    }
   ],
   "source": [
    "response.parameters"
   ]
  },
  {
   "cell_type": "code",
   "execution_count": 32,
   "id": "musical-cleaner",
   "metadata": {},
   "outputs": [
    {
     "data": {
      "text/plain": [
       "{'topic': 'Sports', 'language': 'Hindi', 'geo-country': 'India'}"
      ]
     },
     "execution_count": 32,
     "metadata": {},
     "output_type": "execute_result"
    }
   ],
   "source": [
    "dict(response.parameters)"
   ]
  },
  {
   "cell_type": "code",
   "execution_count": null,
   "id": "elegant-lemon",
   "metadata": {},
   "outputs": [],
   "source": []
  },
  {
   "cell_type": "code",
   "execution_count": 40,
   "id": "worst-parliament",
   "metadata": {},
   "outputs": [],
   "source": [
    "# Firstly do --- pip install gnewsclient"
   ]
  },
  {
   "cell_type": "code",
   "execution_count": 36,
   "id": "absolute-harvest",
   "metadata": {},
   "outputs": [],
   "source": [
    "from gnewsclient import gnewsclient"
   ]
  },
  {
   "cell_type": "code",
   "execution_count": 38,
   "id": "julian-galaxy",
   "metadata": {},
   "outputs": [],
   "source": [
    "client = gnewsclient.NewsClient()"
   ]
  },
  {
   "cell_type": "code",
   "execution_count": 39,
   "id": "international-american",
   "metadata": {},
   "outputs": [
    {
     "data": {
      "text/plain": [
       "{'location': 'United States', 'language': 'english', 'topic': 'Top Stories'}"
      ]
     },
     "execution_count": 39,
     "metadata": {},
     "output_type": "execute_result"
    }
   ],
   "source": [
    "client.get_config()"
   ]
  },
  {
   "cell_type": "code",
   "execution_count": 41,
   "id": "transsexual-greenhouse",
   "metadata": {},
   "outputs": [
    {
     "data": {
      "text/plain": [
       "['Top Stories',\n",
       " 'World',\n",
       " 'Nation',\n",
       " 'Business',\n",
       " 'Technology',\n",
       " 'Entertainment',\n",
       " 'Sports',\n",
       " 'Science',\n",
       " 'Health']"
      ]
     },
     "execution_count": 41,
     "metadata": {},
     "output_type": "execute_result"
    }
   ],
   "source": [
    "client.topics"
   ]
  },
  {
   "cell_type": "code",
   "execution_count": 42,
   "id": "described-dublin",
   "metadata": {},
   "outputs": [],
   "source": [
    "client.location = 'India'\n",
    "client.language = 'Hindi'\n",
    "client.topic = 'Sports'"
   ]
  },
  {
   "cell_type": "code",
   "execution_count": 43,
   "id": "rough-talent",
   "metadata": {},
   "outputs": [
    {
     "data": {
      "text/plain": [
       "[{'title': 'IPL 2021 Auction: इंग्लैंड के तेज गेंदबाज ने नीलामी से पहले नाम वापस लिया, बताई यह वजह - News18 हिंदी',\n",
       "  'link': 'https://news.google.com/__i/rss/rd/articles/CBMimwFodHRwczovL2hpbmRpLm5ld3MxOC5jb20vbmV3cy9zcG9ydHMvY3JpY2tldC1pcGwtMjAyMS1hdWN0aW9uLWVuZ2xhbmQtZmFzdC1ib3dsZXItbWFyay13b29kLWhhcy13aXRoZHJhd24taGlzLW5hbWUtZnJvbS10aGUtaXBsLXBsYXllci1hdWN0aW9uLTM0NzI3MzMuaHRtbNIBnwFodHRwczovL2hpbmRpLm5ld3MxOC5jb20vYW1wL25ld3Mvc3BvcnRzL2NyaWNrZXQtaXBsLTIwMjEtYXVjdGlvbi1lbmdsYW5kLWZhc3QtYm93bGVyLW1hcmstd29vZC1oYXMtd2l0aGRyYXduLWhpcy1uYW1lLWZyb20tdGhlLWlwbC1wbGF5ZXItYXVjdGlvbi0zNDcyNzMzLmh0bWw?oc=5',\n",
       "  'media': None},\n",
       " {'title': '\"First of all, we\\'re sorry\": England captain Joe Root, coach Chris Silverwood publicly apologise to Moeen Ali for comments made during press conference after Test defeat - Janta Ka Reporter',\n",
       "  'link': 'https://news.google.com/__i/rss/rd/articles/CBMi0QFodHRwOi8vd3d3LmphbnRha2FyZXBvcnRlci5jb20vc3BvcnRzL2ZpcnN0LW9mLWFsbC13ZXJlLXNvcnJ5LWVuZ2xhbmQtY2FwdGFpbi1qb2Utcm9vdC1jb2FjaC1jaHJpcy1zaWx2ZXJ3b29kLXB1YmxpY2x5LWFwb2xvZ2lzZS10by1tb2Vlbi1hbGktZm9yLWNvbW1lbnRzLW1hZGUtZHVyaW5nLXByZXNzLWNvbmZlcmVuY2UtYWZ0ZXItdGVzdC1kZWZlYXQvMzMxNjcxL9IBAA?oc=5',\n",
       "  'media': None},\n",
       " {'title': 'Photos: टेस्ट क्रिकेट में ऐसा करने वाले इकलौते भारतीय क्रिकेटर जयंत यादव ने दिशा से की शादी - Hindustan हिंदी',\n",
       "  'link': 'https://news.google.com/__i/rss/rd/articles/CBMieWh0dHBzOi8vbS5saXZlaGluZHVzdGFuLmNvbS9jcmlja2V0L3N0b3J5LWluZGlhbi1jcmlja2V0ZXItamF5YW50LXlhZGF2LXdlZHMtZGlzaGEtY2hhd2xhLXNlZS13ZWRkaW5nLXBob3Rvcy0zODU3MjUyLmh0bWzSAX1odHRwczovL20ubGl2ZWhpbmR1c3Rhbi5jb20vY3JpY2tldC9zdG9yeS1pbmRpYW4tY3JpY2tldGVyLWpheWFudC15YWRhdi13ZWRzLWRpc2hhLWNoYXdsYS1zZWUtd2VkZGluZy1waG90b3MtMzg1NzI1Mi5hbXAuaHRtbA?oc=5',\n",
       "  'media': None},\n",
       " {'title': 'VIDEO: दूसरे छोर पर खड़े क्रिकेटर की पिच पर ही मौत, कैमरे में कैद हुई दर्दनाक घटना - अमर उजाला',\n",
       "  'link': 'https://news.google.com/__i/rss/rd/articles/CBMiZ2h0dHBzOi8vd3d3LmFtYXJ1amFsYS5jb20vY3JpY2tldC9jcmlja2V0LW5ld3MvcHVuZS1sb2NhbC1wbGF5ZXItZGllZC1vbi10aGUtZ3JvdW5kLWR1ZS10by1oZWFydC1hdHRhY2vSAWtodHRwczovL3d3dy5hbWFydWphbGEuY29tL2FtcC9jcmlja2V0L2NyaWNrZXQtbmV3cy9wdW5lLWxvY2FsLXBsYXllci1kaWVkLW9uLXRoZS1ncm91bmQtZHVlLXRvLWhlYXJ0LWF0dGFjaw?oc=5',\n",
       "  'media': None},\n",
       " {'title': 'IND vs ENG: तीसरे टेस्ट से पहले इंग्लैंड के लिए बुरी खबर, Umesh Yadav की टीम में वापसी - Zee News Hindi',\n",
       "  'link': 'https://news.google.com/__i/rss/rd/articles/CBMingFodHRwczovL3plZW5ld3MuaW5kaWEuY29tL2hpbmRpL3Nwb3J0cy9jcmlja2V0L3VtZXNoLXlhZGF2LXJhdmljaGFuZHJhbi1hc2h3aW4taW5kaWEtdnMtZW5nbGFuZC10aGlyZC10ZXN0LWFobWVkYWJhZC10ZXN0LWRheS1uaWdodC10ZXN0LXBpbmstYmFsbC10ZXN0Lzg1MDU1NdIBogFodHRwczovL3plZW5ld3MuaW5kaWEuY29tL2hpbmRpL3Nwb3J0cy9jcmlja2V0L3VtZXNoLXlhZGF2LXJhdmljaGFuZHJhbi1hc2h3aW4taW5kaWEtdnMtZW5nbGFuZC10aGlyZC10ZXN0LWFobWVkYWJhZC10ZXN0LWRheS1uaWdodC10ZXN0LXBpbmstYmFsbC10ZXN0Lzg1MDU1NS9hbXA?oc=5',\n",
       "  'media': None},\n",
       " {'title': 'कप्तान केएल राहुल ने किया बड़ा खुलासा, बताया किंग्स इलेवन पंजाब ने क्यों बदला अपना नाम - दैनिक जागरण',\n",
       "  'link': 'https://news.google.com/__i/rss/rd/articles/CBMijgFodHRwczovL3d3dy5qYWdyYW4uY29tL2NyaWNrZXQvYXBuaS1iYWF0LWtsLXJhaHVsLXJldmVhbHMtd2h5LWtpbmdzLXhpLXB1bmphYi1jaGFuZ2UtdGhlaXItbmFtZS10by1wdW5qYWIta2luZ3MtYWhlYWQtb2YtaXBsMjAyMS0yMTM4MTQ1OS5odG1s0gGRAWh0dHBzOi8vbS5qYWdyYW4uY29tL2xpdGUvY3JpY2tldC9hcG5pLWJhYXQta2wtcmFodWwtcmV2ZWFscy13aHkta2luZ3MteGktcHVuamFiLWNoYW5nZS10aGVpci1uYW1lLXRvLXB1bmphYi1raW5ncy1haGVhZC1vZi1pcGwyMDIxLTIxMzgxNDU5Lmh0bWw?oc=5',\n",
       "  'media': None},\n",
       " {'title': 'IPL ऑक्शन vs EPL: भारत की सबसे बड़ी लीग में नीलामी के जरिए आते हैं टैलेंटेड खिलाड़ी; इंग्लैंड की सबसे बड़ी ली... - Dainik Bhaskar',\n",
       "  'link': 'https://news.google.com/__i/rss/rd/articles/CBMipwFodHRwczovL3d3dy5iaGFza2FyLmNvbS9zcG9ydHMvbmV3cy90YWxlbnRlZC1wbGF5ZXJzLWNvbWUtdGhyb3VnaC1hdWN0aW9uLWluLWluZGlhcy1sYXJnZXN0LWxlYWd1ZS1lbmdsYW5kcy1sYXJnZXN0LWxlYWd1ZS1vcGVyYXRlcy13aXRoLXRyYW5zZmVyLXN5c3RlbS0xMjgyNDE1NTIuaHRtbNIBqwFodHRwczovL3d3dy5iaGFza2FyLmNvbS9hbXAvc3BvcnRzL25ld3MvdGFsZW50ZWQtcGxheWVycy1jb21lLXRocm91Z2gtYXVjdGlvbi1pbi1pbmRpYXMtbGFyZ2VzdC1sZWFndWUtZW5nbGFuZHMtbGFyZ2VzdC1sZWFndWUtb3BlcmF0ZXMtd2l0aC10cmFuc2Zlci1zeXN0ZW0tMTI4MjQxNTUyLmh0bWw?oc=5',\n",
       "  'media': None},\n",
       " {'title': \"धोनी के 'Definitely Not' के साथ ऑक्शन में पहुंचे CSK के अधिकारी - Aaj Tak\",\n",
       "  'link': 'https://news.google.com/__i/rss/rd/articles/CBMikAFodHRwczovL3d3dy5hYWp0YWsuaW4vc3BvcnRzL2NyaWNrZXQvc3RvcnkvaXBsLTIwMjEtYXVjdGlvbi1jaGVubmFpLXN1cGVya2luZ3MtZHJlc3MtbWFoZW5kcmEtc2luZ2gtZGhvbmktZGVmaW5pdGVseS1ub3QtdHNwby0xMjA5ODQ0LTIwMjEtMDItMTjSAZQBaHR0cHM6Ly93d3cuYWFqdGFrLmluL2FtcC9zcG9ydHMvY3JpY2tldC9zdG9yeS9pcGwtMjAyMS1hdWN0aW9uLWNoZW5uYWktc3VwZXJraW5ncy1kcmVzcy1tYWhlbmRyYS1zaW5naC1kaG9uaS1kZWZpbml0ZWx5LW5vdC10c3BvLTEyMDk4NDQtMjAyMS0wMi0xOA?oc=5',\n",
       "  'media': None},\n",
       " {'title': 'IPL 2021: सबसे ज्यादा डिमांड में हैं स्टीव स्मिथ, जानें किन टीमों की है नज़र - ABP News',\n",
       "  'link': 'https://news.google.com/__i/rss/rd/articles/CBMidmh0dHBzOi8vd3d3LmFicGxpdmUuY29tL3Nwb3J0cy9pcGwvaXBsLTIwMjEtYXVjdGlvbi1zdGV2ZS1zbWl0aC1taWdodC1nZXQtYmlnLWFtb3VudC1iZWNhdXNlLW1hbnktdGltZXMtb24tZXllLTE3NzgzMznSAXpodHRwczovL3d3dy5hYnBsaXZlLmNvbS9zcG9ydHMvaXBsL2lwbC0yMDIxLWF1Y3Rpb24tc3RldmUtc21pdGgtbWlnaHQtZ2V0LWJpZy1hbW91bnQtYmVjYXVzZS1tYW55LXRpbWVzLW9uLWV5ZS0xNzc4MzM5L2FtcA?oc=5',\n",
       "  'media': None},\n",
       " {'title': 'IPL 2021 Auction: दांव पर दिग्गजों के बेटों की किस्मत, अर्जुन तेंदुलकर पर होंगी सारी निगाहें - अमर उजाला',\n",
       "  'link': 'https://news.google.com/__i/rss/rd/articles/CBMic2h0dHBzOi8vd3d3LmFtYXJ1amFsYS5jb20vY3JpY2tldC9jcmlja2V0LW5ld3MvaXBsLWF1Y3Rpb24tMjAyMS1hbGwtZXllcy1vZi12ZXRlcmFucy1zb25zLWluY2x1ZGluZy1hcmp1bi10ZW5kdWxrYXLSAXdodHRwczovL3d3dy5hbWFydWphbGEuY29tL2FtcC9jcmlja2V0L2NyaWNrZXQtbmV3cy9pcGwtYXVjdGlvbi0yMDIxLWFsbC1leWVzLW9mLXZldGVyYW5zLXNvbnMtaW5jbHVkaW5nLWFyanVuLXRlbmR1bGthcg?oc=5',\n",
       "  'media': None}]"
      ]
     },
     "execution_count": 43,
     "metadata": {},
     "output_type": "execute_result"
    }
   ],
   "source": [
    "client.get_news()"
   ]
  }
 ],
 "metadata": {
  "kernelspec": {
   "display_name": "Python 3",
   "language": "python",
   "name": "python3"
  },
  "language_info": {
   "codemirror_mode": {
    "name": "ipython",
    "version": 3
   },
   "file_extension": ".py",
   "mimetype": "text/x-python",
   "name": "python",
   "nbconvert_exporter": "python",
   "pygments_lexer": "ipython3",
   "version": "3.9.1"
  }
 },
 "nbformat": 4,
 "nbformat_minor": 5
}
