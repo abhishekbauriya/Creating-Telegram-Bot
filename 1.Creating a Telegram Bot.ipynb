{
 "cells": [
  {
   "cell_type": "markdown",
   "id": "jewish-allen",
   "metadata": {},
   "source": [
    "# What is a Telegram Bot?"
   ]
  },
  {
   "cell_type": "markdown",
   "id": "mobile-helicopter",
   "metadata": {},
   "source": [
    "Bots are third party applications that run inside Telegram. Users can interact with bots by sending them messages, commands and inline requests. You control your bots using HTTPS requests to Telegram Bot API."
   ]
  },
  {
   "cell_type": "raw",
   "id": "intimate-stranger",
   "metadata": {},
   "source": [
    "Telegram Bots are special accounts that do not require an additional phone number to setup. Theses accounts serve as an interface for code running somewhere on your server."
   ]
  },
  {
   "cell_type": "markdown",
   "id": "bizarre-conversation",
   "metadata": {},
   "source": [
    "## Registering a Telegram BOT"
   ]
  },
  {
   "cell_type": "markdown",
   "id": "tutorial-consolidation",
   "metadata": {},
   "source": [
    "- @BotFather ---> search in Telegram\n",
    "- click ----> start\n",
    "- /newbot ----> enter\n",
    "- Give name to the bot ---> example ===> news786945bot\n",
    "- Use this token to access the HTTP API: 1631055822:AAER3YEoFPVwlim5N5b1HEhI94QXPWAd83Q"
   ]
  }
 ],
 "metadata": {
  "kernelspec": {
   "display_name": "Python 3",
   "language": "python",
   "name": "python3"
  },
  "language_info": {
   "codemirror_mode": {
    "name": "ipython",
    "version": 3
   },
   "file_extension": ".py",
   "mimetype": "text/x-python",
   "name": "python",
   "nbconvert_exporter": "python",
   "pygments_lexer": "ipython3",
   "version": "3.9.1"
  }
 },
 "nbformat": 4,
 "nbformat_minor": 5
}
