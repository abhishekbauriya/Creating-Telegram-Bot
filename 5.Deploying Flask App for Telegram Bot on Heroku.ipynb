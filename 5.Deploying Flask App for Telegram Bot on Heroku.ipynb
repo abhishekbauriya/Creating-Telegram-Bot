{
 "cells": [
  {
   "cell_type": "markdown",
   "id": "established-object",
   "metadata": {},
   "source": [
    "# Heroku\n",
    "\n",
    "Heroku is a platform as a service (Paas) that enables devlopers to build, run, and operate applications entirely in the cloud."
   ]
  },
  {
   "cell_type": "markdown",
   "id": "chronic-diary",
   "metadata": {},
   "source": [
    "<b>Create some new files for Heroku deployment</b>"
   ]
  },
  {
   "cell_type": "markdown",
   "id": "valuable-prophet",
   "metadata": {},
   "source": [
    "<b>1.Procifile</b>\n",
    "\n",
    "A Procfile is a mechanism for declaring what commands are run by your applications dynos on the heroku platform.\n",
    "\n",
    "    web gunicorn app:app\n",
    "        \n",
    "Also, install gunicorn in your virtual environment\n",
    "\n",
    "    pip install gunicorn"
   ]
  },
  {
   "cell_type": "markdown",
   "id": "burning-proceeding",
   "metadata": {},
   "source": [
    "<b>2. runtime.txt</b>\n",
    "\n",
    "To specify a particular version of Python via your app's runtime.txt\n",
    "\n",
    "    python-3.7.2"
   ]
  },
  {
   "cell_type": "markdown",
   "id": "nominated-values",
   "metadata": {},
   "source": [
    "<b>3. requirements.txt</b>\n",
    "\n",
    "Conatins all 3rd party libraries required by your app"
   ]
  }
 ],
 "metadata": {
  "kernelspec": {
   "display_name": "Python 3",
   "language": "python",
   "name": "python3"
  },
  "language_info": {
   "codemirror_mode": {
    "name": "ipython",
    "version": 3
   },
   "file_extension": ".py",
   "mimetype": "text/x-python",
   "name": "python",
   "nbconvert_exporter": "python",
   "pygments_lexer": "ipython3",
   "version": "3.9.1"
  }
 },
 "nbformat": 4,
 "nbformat_minor": 5
}
