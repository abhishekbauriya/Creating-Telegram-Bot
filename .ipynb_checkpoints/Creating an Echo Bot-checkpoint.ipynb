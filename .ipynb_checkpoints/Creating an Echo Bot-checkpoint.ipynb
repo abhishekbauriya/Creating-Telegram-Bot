{
 "cells": [
  {
   "cell_type": "markdown",
   "id": "dental-hypothetical",
   "metadata": {},
   "source": [
    "# Setting up the Project"
   ]
  },
  {
   "cell_type": "markdown",
   "id": "collect-tender",
   "metadata": {},
   "source": [
    "## 1. Setup a Python Virtual Environment"
   ]
  },
  {
   "cell_type": "raw",
   "id": "atmospheric-scenario",
   "metadata": {},
   "source": [
    "A virtual environment is a tool that helps to keep dependencies required by different projects separate by creating isolated python virtual environments for them."
   ]
  },
  {
   "cell_type": "markdown",
   "id": "banned-norway",
   "metadata": {},
   "source": [
    "- Create a Project Folder"
   ]
  },
  {
   "cell_type": "markdown",
   "id": "acceptable-happening",
   "metadata": {},
   "source": [
    "- Run following command to create a new virtual environment inside your project folder:\n",
    "\n",
    "        Python -m venv myvenv\n",
    "        \n",
    "- After running above command, a folder named myvenv will get created in your project folder."
   ]
  },
  {
   "cell_type": "markdown",
   "id": "adult-rates",
   "metadata": {},
   "source": [
    "- Activate the virtual environment by running following command:\n",
    "    \n",
    "    - For ubuntu and mac users:\n",
    "        \n",
    "        source myvenv/bin/activate\n",
    "        \n",
    "        \n",
    "    - For windows users:\n",
    "        \n",
    "        myvenv\\Scripts\\activate"
   ]
  },
  {
   "cell_type": "markdown",
   "id": "mounted-champion",
   "metadata": {},
   "source": [
    "# After that run everything in (myvenv) as mentioned below:\n",
    "\n",
    "(myvenv) E:\\coding_blocks_python_master_developer\\Basics of Python\\15.Project 04 - Creating Telegram Bot\\news.bot>"
   ]
  },
  {
   "cell_type": "markdown",
   "id": "musical-interaction",
   "metadata": {},
   "source": [
    "## 2. Install required Python Packages:"
   ]
  },
  {
   "cell_type": "markdown",
   "id": "eight-column",
   "metadata": {},
   "source": [
    "- python-telegram-bot\n",
    "\n",
    "        pip install python-telegram-botpython-telegram-bot\n",
    "        \n",
    "        \n",
    "i.e. (myvenv) E:\\coding_blocks_python_master_developer\\Basics of Python\\15.Project 04 - Creating Telegram Bot\\news.bot>pip install python-telegram-bot"
   ]
  },
  {
   "cell_type": "markdown",
   "id": "thick-knitting",
   "metadata": {},
   "source": [
    "# Echo Bot"
   ]
  },
  {
   "cell_type": "markdown",
   "id": "graduate-intro",
   "metadata": {},
   "source": [
    "#### 1. Enable Logging"
   ]
  },
  {
   "cell_type": "markdown",
   "id": "gentle-lover",
   "metadata": {},
   "source": [
    "    import logging\n",
    "    \n",
    "    logging.basicConfig(format='%(asctime)s - %(name)s - %(levelname)s -%(message)s',level=logging.INFO)\n",
    "    \n",
    "    logger = logging.getLogger(__name__)"
   ]
  },
  {
   "cell_type": "markdown",
   "id": "fitting-generic",
   "metadata": {},
   "source": [
    "#### 2.Create Updater"
   ]
  },
  {
   "cell_type": "markdown",
   "id": "theoretical-america",
   "metadata": {},
   "source": [
    "updater = Updater(TOKEN)"
   ]
  },
  {
   "cell_type": "markdown",
   "id": "opening-exposure",
   "metadata": {},
   "source": [
    "#### 3.Create Dispatcher"
   ]
  },
  {
   "cell_type": "markdown",
   "id": "engaging-tours",
   "metadata": {},
   "source": [
    "dp = updater.dispatcher"
   ]
  },
  {
   "cell_type": "markdown",
   "id": "comic-processing",
   "metadata": {},
   "source": [
    "#### 4. Add handlers"
   ]
  },
  {
   "cell_type": "markdown",
   "id": "covered-vault",
   "metadata": {},
   "source": [
    "dp.add_handler(CommandHandler(\"start\", start))\n",
    "\n",
    "dp.add_handler(CommandHandler(\"help\", help))\n",
    "\n",
    "dp.add_handler(MessageHandler(Filters.text, echo text))\n",
    "\n",
    "dp.add_handler(MessageHandler(Filters.sticker, echo_sticker))\n",
    "\n",
    "dp.add_error_handler(error)"
   ]
  },
  {
   "cell_type": "markdown",
   "id": "emerging-negative",
   "metadata": {},
   "source": [
    "#### 5.Start Polling and Wait for any Signal to end the Program"
   ]
  },
  {
   "cell_type": "markdown",
   "id": "level-shipping",
   "metadata": {},
   "source": [
    "updater.start_polling()\n",
    "\n",
    "updater.idle()"
   ]
  },
  {
   "cell_type": "markdown",
   "id": "authorized-reason",
   "metadata": {},
   "source": [
    "# Wrtite above steps in Sublime Text.....^"
   ]
  }
 ],
 "metadata": {
  "kernelspec": {
   "display_name": "Python 3",
   "language": "python",
   "name": "python3"
  },
  "language_info": {
   "codemirror_mode": {
    "name": "ipython",
    "version": 3
   },
   "file_extension": ".py",
   "mimetype": "text/x-python",
   "name": "python",
   "nbconvert_exporter": "python",
   "pygments_lexer": "ipython3",
   "version": "3.9.1"
  }
 },
 "nbformat": 4,
 "nbformat_minor": 5
}
