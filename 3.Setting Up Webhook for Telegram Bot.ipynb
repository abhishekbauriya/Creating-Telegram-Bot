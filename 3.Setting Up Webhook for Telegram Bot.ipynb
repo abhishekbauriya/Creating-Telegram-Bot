{
 "cells": [
  {
   "cell_type": "markdown",
   "id": "auburn-webcam",
   "metadata": {},
   "source": [
    "#### Ports Currently supported for webhooks: 443, 80, 88, 8443"
   ]
  },
  {
   "cell_type": "markdown",
   "id": "derived-passion",
   "metadata": {},
   "source": [
    "# Setting up a server"
   ]
  },
  {
   "cell_type": "markdown",
   "id": "improving-victim",
   "metadata": {},
   "source": [
    "### 1. Install Flask\n",
    "    pip install flask"
   ]
  },
  {
   "cell_type": "markdown",
   "id": "brief-steam",
   "metadata": {},
   "source": [
    "### 2. Setip webhook"
   ]
  },
  {
   "cell_type": "code",
   "execution_count": null,
   "id": "pretty-mustang",
   "metadata": {},
   "outputs": [],
   "source": [
    "# create telegram bot object\n",
    "bot = Bot(TOKEN)\n",
    "# set webhook for telegram bot\n",
    "bot.set webhook(\"https://example.com/\" + TOKEN)"
   ]
  },
  {
   "cell_type": "markdown",
   "id": "color-explosion",
   "metadata": {},
   "source": [
    "### 3. Create view to handle webhooks"
   ]
  },
  {
   "cell_type": "code",
   "execution_count": null,
   "id": "persistent-accordance",
   "metadata": {},
   "outputs": [],
   "source": [
    "@app.route(f'/{TOKEN}', methods=['GET', 'POST']')\n",
    "           def webhook():\n",
    "           \"\"\"webhook view which receives updates from telegram\"\"\"\n",
    "           # Create update object from json-format request data\n",
    "           update = Update.de_json(request.get_json(), bot)\n",
    "           # process update\n",
    "           dispatcher.process_update(update)\n",
    "           return \"ok\""
   ]
  },
  {
   "cell_type": "markdown",
   "id": "handy-kenya",
   "metadata": {},
   "source": [
    "### 3. Generate Public URL for Webhook using ngrok.io"
   ]
  },
  {
   "cell_type": "markdown",
   "id": "valuable-cherry",
   "metadata": {},
   "source": [
    "ngrok is a free tool that allows us to tunnel from a public URL to our application running locally"
   ]
  },
  {
   "cell_type": "markdown",
   "id": "expanded-climate",
   "metadata": {},
   "source": [
    "- Download ngrok\n",
    "- Unzip it\n",
    "- Run ngrok from command line (from the location where executable is stored)\n",
    "\n",
    "        ./ngrok http 8443\n",
    "        \n",
    "- Copy the HTTPS Forwarding URL"
   ]
  },
  {
   "cell_type": "code",
   "execution_count": null,
   "id": "contrary-evans",
   "metadata": {},
   "outputs": [],
   "source": []
  }
 ],
 "metadata": {
  "kernelspec": {
   "display_name": "Python 3",
   "language": "python",
   "name": "python3"
  },
  "language_info": {
   "codemirror_mode": {
    "name": "ipython",
    "version": 3
   },
   "file_extension": ".py",
   "mimetype": "text/x-python",
   "name": "python",
   "nbconvert_exporter": "python",
   "pygments_lexer": "ipython3",
   "version": "3.9.1"
  }
 },
 "nbformat": 4,
 "nbformat_minor": 5
}
